{
 "cells": [
  {
   "cell_type": "markdown",
   "metadata": {},
   "source": [
    "# Assignment: Deep learning\n",
    "Build a Keras (deep learning) model where Tensorflow works in backend. This project is to carry outon a hosuing price data set. The objective of this project is to predict of a house price above the median or no."
   ]
  },
  {
   "cell_type": "markdown",
   "metadata": {},
   "source": [
    "# 0. Libraries"
   ]
  },
  {
   "cell_type": "code",
   "execution_count": 37,
   "metadata": {},
   "outputs": [],
   "source": [
    "import pandas as pd\n",
    "import numpy as np\n",
    "import matplotlib.pyplot as plt\n",
    "from sklearn.model_selection import train_test_split\n",
    "from tensorflow.python.keras import Sequential\n",
    "from tensorflow.python.keras.layers import Dense\n",
    "from sklearn.preprocessing import MinMaxScaler"
   ]
  },
  {
   "cell_type": "markdown",
   "metadata": {},
   "source": [
    "# 1. Load in data "
   ]
  },
  {
   "cell_type": "code",
   "execution_count": 2,
   "metadata": {},
   "outputs": [],
   "source": [
    "houses = pd.read_csv(\"housepricedata.csv\", sep=\",\")"
   ]
  },
  {
   "cell_type": "markdown",
   "metadata": {},
   "source": [
    "# 2. Analysis of data\n",
    "\n",
    "Analys the data set to get a better understanding of the data "
   ]
  },
  {
   "cell_type": "code",
   "execution_count": 10,
   "metadata": {},
   "outputs": [
    {
     "name": "stdout",
     "output_type": "stream",
     "text": [
      "<class 'pandas.core.frame.DataFrame'>\n",
      "RangeIndex: 1460 entries, 0 to 1459\n",
      "Data columns (total 11 columns):\n",
      "LotArea             1460 non-null int64\n",
      "OverallQual         1460 non-null int64\n",
      "OverallCond         1460 non-null int64\n",
      "TotalBsmtSF         1460 non-null int64\n",
      "FullBath            1460 non-null int64\n",
      "HalfBath            1460 non-null int64\n",
      "BedroomAbvGr        1460 non-null int64\n",
      "TotRmsAbvGrd        1460 non-null int64\n",
      "Fireplaces          1460 non-null int64\n",
      "GarageArea          1460 non-null int64\n",
      "AboveMedianPrice    1460 non-null int64\n",
      "dtypes: int64(11)\n",
      "memory usage: 125.6 KB\n",
      "None\n"
     ]
    }
   ],
   "source": [
    "print(houses.info())"
   ]
  },
  {
   "cell_type": "code",
   "execution_count": 5,
   "metadata": {},
   "outputs": [
    {
     "name": "stdout",
     "output_type": "stream",
     "text": [
      "LotArea             0\n",
      "OverallQual         0\n",
      "OverallCond         0\n",
      "TotalBsmtSF         0\n",
      "FullBath            0\n",
      "HalfBath            0\n",
      "BedroomAbvGr        0\n",
      "TotRmsAbvGrd        0\n",
      "Fireplaces          0\n",
      "GarageArea          0\n",
      "AboveMedianPrice    0\n",
      "dtype: int64\n"
     ]
    }
   ],
   "source": [
    "# Check if there is null values\n",
    "print(houses.isnull().sum())"
   ]
  },
  {
   "cell_type": "code",
   "execution_count": 7,
   "metadata": {},
   "outputs": [
    {
     "name": "stdout",
     "output_type": "stream",
     "text": [
      "Houses data shape (1460, 11)\n"
     ]
    }
   ],
   "source": [
    "print(\"Houses data shape\",houses.shape)"
   ]
  },
  {
   "cell_type": "code",
   "execution_count": 8,
   "metadata": {},
   "outputs": [
    {
     "data": {
      "text/html": [
       "<div>\n",
       "<style scoped>\n",
       "    .dataframe tbody tr th:only-of-type {\n",
       "        vertical-align: middle;\n",
       "    }\n",
       "\n",
       "    .dataframe tbody tr th {\n",
       "        vertical-align: top;\n",
       "    }\n",
       "\n",
       "    .dataframe thead th {\n",
       "        text-align: right;\n",
       "    }\n",
       "</style>\n",
       "<table border=\"1\" class=\"dataframe\">\n",
       "  <thead>\n",
       "    <tr style=\"text-align: right;\">\n",
       "      <th></th>\n",
       "      <th>LotArea</th>\n",
       "      <th>OverallQual</th>\n",
       "      <th>OverallCond</th>\n",
       "      <th>TotalBsmtSF</th>\n",
       "      <th>FullBath</th>\n",
       "      <th>HalfBath</th>\n",
       "      <th>BedroomAbvGr</th>\n",
       "      <th>TotRmsAbvGrd</th>\n",
       "      <th>Fireplaces</th>\n",
       "      <th>GarageArea</th>\n",
       "      <th>AboveMedianPrice</th>\n",
       "    </tr>\n",
       "  </thead>\n",
       "  <tbody>\n",
       "    <tr>\n",
       "      <td>0</td>\n",
       "      <td>8450</td>\n",
       "      <td>7</td>\n",
       "      <td>5</td>\n",
       "      <td>856</td>\n",
       "      <td>2</td>\n",
       "      <td>1</td>\n",
       "      <td>3</td>\n",
       "      <td>8</td>\n",
       "      <td>0</td>\n",
       "      <td>548</td>\n",
       "      <td>1</td>\n",
       "    </tr>\n",
       "    <tr>\n",
       "      <td>1</td>\n",
       "      <td>9600</td>\n",
       "      <td>6</td>\n",
       "      <td>8</td>\n",
       "      <td>1262</td>\n",
       "      <td>2</td>\n",
       "      <td>0</td>\n",
       "      <td>3</td>\n",
       "      <td>6</td>\n",
       "      <td>1</td>\n",
       "      <td>460</td>\n",
       "      <td>1</td>\n",
       "    </tr>\n",
       "    <tr>\n",
       "      <td>2</td>\n",
       "      <td>11250</td>\n",
       "      <td>7</td>\n",
       "      <td>5</td>\n",
       "      <td>920</td>\n",
       "      <td>2</td>\n",
       "      <td>1</td>\n",
       "      <td>3</td>\n",
       "      <td>6</td>\n",
       "      <td>1</td>\n",
       "      <td>608</td>\n",
       "      <td>1</td>\n",
       "    </tr>\n",
       "    <tr>\n",
       "      <td>3</td>\n",
       "      <td>9550</td>\n",
       "      <td>7</td>\n",
       "      <td>5</td>\n",
       "      <td>756</td>\n",
       "      <td>1</td>\n",
       "      <td>0</td>\n",
       "      <td>3</td>\n",
       "      <td>7</td>\n",
       "      <td>1</td>\n",
       "      <td>642</td>\n",
       "      <td>0</td>\n",
       "    </tr>\n",
       "    <tr>\n",
       "      <td>4</td>\n",
       "      <td>14260</td>\n",
       "      <td>8</td>\n",
       "      <td>5</td>\n",
       "      <td>1145</td>\n",
       "      <td>2</td>\n",
       "      <td>1</td>\n",
       "      <td>4</td>\n",
       "      <td>9</td>\n",
       "      <td>1</td>\n",
       "      <td>836</td>\n",
       "      <td>1</td>\n",
       "    </tr>\n",
       "  </tbody>\n",
       "</table>\n",
       "</div>"
      ],
      "text/plain": [
       "   LotArea  OverallQual  OverallCond  TotalBsmtSF  FullBath  HalfBath  \\\n",
       "0     8450            7            5          856         2         1   \n",
       "1     9600            6            8         1262         2         0   \n",
       "2    11250            7            5          920         2         1   \n",
       "3     9550            7            5          756         1         0   \n",
       "4    14260            8            5         1145         2         1   \n",
       "\n",
       "   BedroomAbvGr  TotRmsAbvGrd  Fireplaces  GarageArea  AboveMedianPrice  \n",
       "0             3             8           0         548                 1  \n",
       "1             3             6           1         460                 1  \n",
       "2             3             6           1         608                 1  \n",
       "3             3             7           1         642                 0  \n",
       "4             4             9           1         836                 1  "
      ]
     },
     "execution_count": 8,
     "metadata": {},
     "output_type": "execute_result"
    }
   ],
   "source": [
    "houses.head()"
   ]
  },
  {
   "cell_type": "code",
   "execution_count": 9,
   "metadata": {},
   "outputs": [
    {
     "data": {
      "text/html": [
       "<div>\n",
       "<style scoped>\n",
       "    .dataframe tbody tr th:only-of-type {\n",
       "        vertical-align: middle;\n",
       "    }\n",
       "\n",
       "    .dataframe tbody tr th {\n",
       "        vertical-align: top;\n",
       "    }\n",
       "\n",
       "    .dataframe thead th {\n",
       "        text-align: right;\n",
       "    }\n",
       "</style>\n",
       "<table border=\"1\" class=\"dataframe\">\n",
       "  <thead>\n",
       "    <tr style=\"text-align: right;\">\n",
       "      <th></th>\n",
       "      <th>LotArea</th>\n",
       "      <th>OverallQual</th>\n",
       "      <th>OverallCond</th>\n",
       "      <th>TotalBsmtSF</th>\n",
       "      <th>FullBath</th>\n",
       "      <th>HalfBath</th>\n",
       "      <th>BedroomAbvGr</th>\n",
       "      <th>TotRmsAbvGrd</th>\n",
       "      <th>Fireplaces</th>\n",
       "      <th>GarageArea</th>\n",
       "      <th>AboveMedianPrice</th>\n",
       "    </tr>\n",
       "  </thead>\n",
       "  <tbody>\n",
       "    <tr>\n",
       "      <td>count</td>\n",
       "      <td>1460.000000</td>\n",
       "      <td>1460.000000</td>\n",
       "      <td>1460.000000</td>\n",
       "      <td>1460.000000</td>\n",
       "      <td>1460.000000</td>\n",
       "      <td>1460.000000</td>\n",
       "      <td>1460.000000</td>\n",
       "      <td>1460.000000</td>\n",
       "      <td>1460.000000</td>\n",
       "      <td>1460.000000</td>\n",
       "      <td>1460.000000</td>\n",
       "    </tr>\n",
       "    <tr>\n",
       "      <td>mean</td>\n",
       "      <td>10516.828082</td>\n",
       "      <td>6.099315</td>\n",
       "      <td>5.575342</td>\n",
       "      <td>1057.429452</td>\n",
       "      <td>1.565068</td>\n",
       "      <td>0.382877</td>\n",
       "      <td>2.866438</td>\n",
       "      <td>6.517808</td>\n",
       "      <td>0.613014</td>\n",
       "      <td>472.980137</td>\n",
       "      <td>0.498630</td>\n",
       "    </tr>\n",
       "    <tr>\n",
       "      <td>std</td>\n",
       "      <td>9981.264932</td>\n",
       "      <td>1.382997</td>\n",
       "      <td>1.112799</td>\n",
       "      <td>438.705324</td>\n",
       "      <td>0.550916</td>\n",
       "      <td>0.502885</td>\n",
       "      <td>0.815778</td>\n",
       "      <td>1.625393</td>\n",
       "      <td>0.644666</td>\n",
       "      <td>213.804841</td>\n",
       "      <td>0.500169</td>\n",
       "    </tr>\n",
       "    <tr>\n",
       "      <td>min</td>\n",
       "      <td>1300.000000</td>\n",
       "      <td>1.000000</td>\n",
       "      <td>1.000000</td>\n",
       "      <td>0.000000</td>\n",
       "      <td>0.000000</td>\n",
       "      <td>0.000000</td>\n",
       "      <td>0.000000</td>\n",
       "      <td>2.000000</td>\n",
       "      <td>0.000000</td>\n",
       "      <td>0.000000</td>\n",
       "      <td>0.000000</td>\n",
       "    </tr>\n",
       "    <tr>\n",
       "      <td>25%</td>\n",
       "      <td>7553.500000</td>\n",
       "      <td>5.000000</td>\n",
       "      <td>5.000000</td>\n",
       "      <td>795.750000</td>\n",
       "      <td>1.000000</td>\n",
       "      <td>0.000000</td>\n",
       "      <td>2.000000</td>\n",
       "      <td>5.000000</td>\n",
       "      <td>0.000000</td>\n",
       "      <td>334.500000</td>\n",
       "      <td>0.000000</td>\n",
       "    </tr>\n",
       "    <tr>\n",
       "      <td>50%</td>\n",
       "      <td>9478.500000</td>\n",
       "      <td>6.000000</td>\n",
       "      <td>5.000000</td>\n",
       "      <td>991.500000</td>\n",
       "      <td>2.000000</td>\n",
       "      <td>0.000000</td>\n",
       "      <td>3.000000</td>\n",
       "      <td>6.000000</td>\n",
       "      <td>1.000000</td>\n",
       "      <td>480.000000</td>\n",
       "      <td>0.000000</td>\n",
       "    </tr>\n",
       "    <tr>\n",
       "      <td>75%</td>\n",
       "      <td>11601.500000</td>\n",
       "      <td>7.000000</td>\n",
       "      <td>6.000000</td>\n",
       "      <td>1298.250000</td>\n",
       "      <td>2.000000</td>\n",
       "      <td>1.000000</td>\n",
       "      <td>3.000000</td>\n",
       "      <td>7.000000</td>\n",
       "      <td>1.000000</td>\n",
       "      <td>576.000000</td>\n",
       "      <td>1.000000</td>\n",
       "    </tr>\n",
       "    <tr>\n",
       "      <td>max</td>\n",
       "      <td>215245.000000</td>\n",
       "      <td>10.000000</td>\n",
       "      <td>9.000000</td>\n",
       "      <td>6110.000000</td>\n",
       "      <td>3.000000</td>\n",
       "      <td>2.000000</td>\n",
       "      <td>8.000000</td>\n",
       "      <td>14.000000</td>\n",
       "      <td>3.000000</td>\n",
       "      <td>1418.000000</td>\n",
       "      <td>1.000000</td>\n",
       "    </tr>\n",
       "  </tbody>\n",
       "</table>\n",
       "</div>"
      ],
      "text/plain": [
       "             LotArea  OverallQual  OverallCond  TotalBsmtSF     FullBath  \\\n",
       "count    1460.000000  1460.000000  1460.000000  1460.000000  1460.000000   \n",
       "mean    10516.828082     6.099315     5.575342  1057.429452     1.565068   \n",
       "std      9981.264932     1.382997     1.112799   438.705324     0.550916   \n",
       "min      1300.000000     1.000000     1.000000     0.000000     0.000000   \n",
       "25%      7553.500000     5.000000     5.000000   795.750000     1.000000   \n",
       "50%      9478.500000     6.000000     5.000000   991.500000     2.000000   \n",
       "75%     11601.500000     7.000000     6.000000  1298.250000     2.000000   \n",
       "max    215245.000000    10.000000     9.000000  6110.000000     3.000000   \n",
       "\n",
       "          HalfBath  BedroomAbvGr  TotRmsAbvGrd   Fireplaces   GarageArea  \\\n",
       "count  1460.000000   1460.000000   1460.000000  1460.000000  1460.000000   \n",
       "mean      0.382877      2.866438      6.517808     0.613014   472.980137   \n",
       "std       0.502885      0.815778      1.625393     0.644666   213.804841   \n",
       "min       0.000000      0.000000      2.000000     0.000000     0.000000   \n",
       "25%       0.000000      2.000000      5.000000     0.000000   334.500000   \n",
       "50%       0.000000      3.000000      6.000000     1.000000   480.000000   \n",
       "75%       1.000000      3.000000      7.000000     1.000000   576.000000   \n",
       "max       2.000000      8.000000     14.000000     3.000000  1418.000000   \n",
       "\n",
       "       AboveMedianPrice  \n",
       "count       1460.000000  \n",
       "mean           0.498630  \n",
       "std            0.500169  \n",
       "min            0.000000  \n",
       "25%            0.000000  \n",
       "50%            0.000000  \n",
       "75%            1.000000  \n",
       "max            1.000000  "
      ]
     },
     "execution_count": 9,
     "metadata": {},
     "output_type": "execute_result"
    }
   ],
   "source": [
    "houses.describe()"
   ]
  },
  {
   "cell_type": "markdown",
   "metadata": {},
   "source": [
    "# 3.1 Preprocess the data and split the data"
   ]
  },
  {
   "cell_type": "code",
   "execution_count": 10,
   "metadata": {},
   "outputs": [],
   "source": [
    "x= houses.iloc[:, 0:10]\n",
    "\n",
    "y = np.ravel(houses.AboveMedianPrice)\n",
    "\n",
    "# Split the data up in train and test sets\n",
    "x_train, x_test, y_train, y_test = train_test_split(x,y, test_size = 0.2, random_state=45)"
   ]
  },
  {
   "cell_type": "markdown",
   "metadata": {},
   "source": [
    "## 3.2 Normalize the data"
   ]
  },
  {
   "cell_type": "code",
   "execution_count": 11,
   "metadata": {},
   "outputs": [],
   "source": [
    "scaler = MinMaxScaler().fit(x_train)\n",
    "\n",
    "# Scale train and test\n",
    "x_train = scaler.transform(x_train)\n",
    "x_test = scaler.transform(x_test)"
   ]
  },
  {
   "cell_type": "markdown",
   "metadata": {},
   "source": [
    "# 4. Specify model architecture"
   ]
  },
  {
   "cell_type": "code",
   "execution_count": 12,
   "metadata": {},
   "outputs": [],
   "source": [
    "model = Sequential()\n",
    "\n",
    "# Input layer with Dense layer, 32 nodes, \"relu\" activation function\n",
    "model.add(Dense (32, activation='relu', input_shape=(10,)))\n",
    "\n",
    "# Hidden layer with Dense layer, 32 nodes, \"relu\" activation function\n",
    "model.add(Dense (32, activation='relu'))\n",
    "\n",
    "# Output layer with Dense layer, single node, \"sigmoid\" activation function\n",
    "model.add(Dense (1, activation='sigmoid'))"
   ]
  },
  {
   "cell_type": "markdown",
   "metadata": {},
   "source": [
    "# 5. Compile model"
   ]
  },
  {
   "cell_type": "code",
   "execution_count": 14,
   "metadata": {},
   "outputs": [],
   "source": [
    "model.compile(optimizer = \"sgd\",loss = \"binary_crossentropy\", metrics = [\"accuracy\"] ) "
   ]
  },
  {
   "cell_type": "code",
   "execution_count": 15,
   "metadata": {},
   "outputs": [
    {
     "name": "stdout",
     "output_type": "stream",
     "text": [
      "Model: \"sequential\"\n",
      "_________________________________________________________________\n",
      "Layer (type)                 Output Shape              Param #   \n",
      "=================================================================\n",
      "dense (Dense)                (None, 32)                352       \n",
      "_________________________________________________________________\n",
      "dense_1 (Dense)              (None, 32)                1056      \n",
      "_________________________________________________________________\n",
      "dense_2 (Dense)              (None, 1)                 33        \n",
      "=================================================================\n",
      "Total params: 1,441\n",
      "Trainable params: 1,441\n",
      "Non-trainable params: 0\n",
      "_________________________________________________________________\n"
     ]
    }
   ],
   "source": [
    "model.summary()"
   ]
  },
  {
   "cell_type": "markdown",
   "metadata": {},
   "source": [
    "# 6. Fit model"
   ]
  },
  {
   "cell_type": "code",
   "execution_count": 41,
   "metadata": {},
   "outputs": [
    {
     "name": "stdout",
     "output_type": "stream",
     "text": [
      "Train on 1168 samples\n",
      "Epoch 1/100\n",
      "1168/1168 [==============================] - 0s 40us/sample - loss: 0.2578 - accuracy: 0.8921\n",
      "Epoch 2/100\n",
      "1168/1168 [==============================] - 0s 32us/sample - loss: 0.2578 - accuracy: 0.8896\n",
      "Epoch 3/100\n",
      "1168/1168 [==============================] - 0s 33us/sample - loss: 0.2577 - accuracy: 0.8904\n",
      "Epoch 4/100\n",
      "1168/1168 [==============================] - 0s 33us/sample - loss: 0.2573 - accuracy: 0.8904\n",
      "Epoch 5/100\n",
      "1168/1168 [==============================] - 0s 34us/sample - loss: 0.2585 - accuracy: 0.8938\n",
      "Epoch 6/100\n",
      "1168/1168 [==============================] - 0s 35us/sample - loss: 0.2561 - accuracy: 0.8904\n",
      "Epoch 7/100\n",
      "1168/1168 [==============================] - 0s 36us/sample - loss: 0.2557 - accuracy: 0.8947\n",
      "Epoch 8/100\n",
      "1168/1168 [==============================] - 0s 33us/sample - loss: 0.2557 - accuracy: 0.8887\n",
      "Epoch 9/100\n",
      "1168/1168 [==============================] - 0s 35us/sample - loss: 0.2561 - accuracy: 0.8896\n",
      "Epoch 10/100\n",
      "1168/1168 [==============================] - 0s 34us/sample - loss: 0.2553 - accuracy: 0.8904\n",
      "Epoch 11/100\n",
      "1168/1168 [==============================] - 0s 34us/sample - loss: 0.2558 - accuracy: 0.8913\n",
      "Epoch 12/100\n",
      "1168/1168 [==============================] - 0s 33us/sample - loss: 0.2541 - accuracy: 0.8930\n",
      "Epoch 13/100\n",
      "1168/1168 [==============================] - 0s 32us/sample - loss: 0.2541 - accuracy: 0.8938\n",
      "Epoch 14/100\n",
      "1168/1168 [==============================] - 0s 34us/sample - loss: 0.2548 - accuracy: 0.8930\n",
      "Epoch 15/100\n",
      "1168/1168 [==============================] - 0s 33us/sample - loss: 0.2541 - accuracy: 0.8947\n",
      "Epoch 16/100\n",
      "1168/1168 [==============================] - 0s 33us/sample - loss: 0.2545 - accuracy: 0.8896\n",
      "Epoch 17/100\n",
      "1168/1168 [==============================] - 0s 35us/sample - loss: 0.2530 - accuracy: 0.8904\n",
      "Epoch 18/100\n",
      "1168/1168 [==============================] - 0s 34us/sample - loss: 0.2546 - accuracy: 0.8921\n",
      "Epoch 19/100\n",
      "1168/1168 [==============================] - 0s 32us/sample - loss: 0.2543 - accuracy: 0.8904\n",
      "Epoch 20/100\n",
      "1168/1168 [==============================] - 0s 33us/sample - loss: 0.2543 - accuracy: 0.8913\n",
      "Epoch 21/100\n",
      "1168/1168 [==============================] - 0s 32us/sample - loss: 0.2532 - accuracy: 0.8964\n",
      "Epoch 22/100\n",
      "1168/1168 [==============================] - 0s 33us/sample - loss: 0.2537 - accuracy: 0.8904\n",
      "Epoch 23/100\n",
      "1168/1168 [==============================] - 0s 34us/sample - loss: 0.2542 - accuracy: 0.8904\n",
      "Epoch 24/100\n",
      "1168/1168 [==============================] - 0s 36us/sample - loss: 0.2550 - accuracy: 0.8861\n",
      "Epoch 25/100\n",
      "1168/1168 [==============================] - 0s 34us/sample - loss: 0.2531 - accuracy: 0.8938\n",
      "Epoch 26/100\n",
      "1168/1168 [==============================] - 0s 33us/sample - loss: 0.2518 - accuracy: 0.8896\n",
      "Epoch 27/100\n",
      "1168/1168 [==============================] - 0s 35us/sample - loss: 0.2529 - accuracy: 0.8913\n",
      "Epoch 28/100\n",
      "1168/1168 [==============================] - 0s 33us/sample - loss: 0.2524 - accuracy: 0.8921\n",
      "Epoch 29/100\n",
      "1168/1168 [==============================] - 0s 31us/sample - loss: 0.2523 - accuracy: 0.8896\n",
      "Epoch 30/100\n",
      "1168/1168 [==============================] - 0s 32us/sample - loss: 0.2520 - accuracy: 0.8938\n",
      "Epoch 31/100\n",
      "1168/1168 [==============================] - 0s 34us/sample - loss: 0.2518 - accuracy: 0.8913\n",
      "Epoch 32/100\n",
      "1168/1168 [==============================] - 0s 35us/sample - loss: 0.2520 - accuracy: 0.8921\n",
      "Epoch 33/100\n",
      "1168/1168 [==============================] - 0s 35us/sample - loss: 0.2519 - accuracy: 0.8904\n",
      "Epoch 34/100\n",
      "1168/1168 [==============================] - 0s 33us/sample - loss: 0.2509 - accuracy: 0.8921\n",
      "Epoch 35/100\n",
      "1168/1168 [==============================] - 0s 33us/sample - loss: 0.2520 - accuracy: 0.8913\n",
      "Epoch 36/100\n",
      "1168/1168 [==============================] - 0s 33us/sample - loss: 0.2520 - accuracy: 0.8913\n",
      "Epoch 37/100\n",
      "1168/1168 [==============================] - 0s 34us/sample - loss: 0.2520 - accuracy: 0.8904\n",
      "Epoch 38/100\n",
      "1168/1168 [==============================] - 0s 34us/sample - loss: 0.2501 - accuracy: 0.8938\n",
      "Epoch 39/100\n",
      "1168/1168 [==============================] - 0s 34us/sample - loss: 0.2511 - accuracy: 0.8921\n",
      "Epoch 40/100\n",
      "1168/1168 [==============================] - 0s 35us/sample - loss: 0.2515 - accuracy: 0.8878\n",
      "Epoch 41/100\n",
      "1168/1168 [==============================] - 0s 34us/sample - loss: 0.2517 - accuracy: 0.8930\n",
      "Epoch 42/100\n",
      "1168/1168 [==============================] - 0s 31us/sample - loss: 0.2505 - accuracy: 0.8896\n",
      "Epoch 43/100\n",
      "1168/1168 [==============================] - 0s 32us/sample - loss: 0.2513 - accuracy: 0.8904\n",
      "Epoch 44/100\n",
      "1168/1168 [==============================] - 0s 39us/sample - loss: 0.2507 - accuracy: 0.8921\n",
      "Epoch 45/100\n",
      "1168/1168 [==============================] - 0s 32us/sample - loss: 0.2500 - accuracy: 0.8930\n",
      "Epoch 46/100\n",
      "1168/1168 [==============================] - 0s 32us/sample - loss: 0.2504 - accuracy: 0.8913\n",
      "Epoch 47/100\n",
      "1168/1168 [==============================] - 0s 33us/sample - loss: 0.2504 - accuracy: 0.8887\n",
      "Epoch 48/100\n",
      "1168/1168 [==============================] - 0s 33us/sample - loss: 0.2509 - accuracy: 0.8930\n",
      "Epoch 49/100\n",
      "1168/1168 [==============================] - 0s 41us/sample - loss: 0.2503 - accuracy: 0.8887\n",
      "Epoch 50/100\n",
      "1168/1168 [==============================] - 0s 34us/sample - loss: 0.2503 - accuracy: 0.8887\n",
      "Epoch 51/100\n",
      "1168/1168 [==============================] - 0s 35us/sample - loss: 0.2493 - accuracy: 0.8947\n",
      "Epoch 52/100\n",
      "1168/1168 [==============================] - 0s 37us/sample - loss: 0.2501 - accuracy: 0.8878\n",
      "Epoch 53/100\n",
      "1168/1168 [==============================] - 0s 37us/sample - loss: 0.2497 - accuracy: 0.8921\n",
      "Epoch 54/100\n",
      "1168/1168 [==============================] - 0s 37us/sample - loss: 0.2498 - accuracy: 0.8913\n",
      "Epoch 55/100\n",
      "1168/1168 [==============================] - 0s 35us/sample - loss: 0.2492 - accuracy: 0.8904\n",
      "Epoch 56/100\n",
      "1168/1168 [==============================] - 0s 34us/sample - loss: 0.2490 - accuracy: 0.8887\n",
      "Epoch 57/100\n",
      "1168/1168 [==============================] - 0s 34us/sample - loss: 0.2506 - accuracy: 0.8913\n",
      "Epoch 58/100\n",
      "1168/1168 [==============================] - 0s 35us/sample - loss: 0.2484 - accuracy: 0.8913\n",
      "Epoch 59/100\n",
      "1168/1168 [==============================] - 0s 35us/sample - loss: 0.2492 - accuracy: 0.8913\n",
      "Epoch 60/100\n",
      "1168/1168 [==============================] - 0s 32us/sample - loss: 0.2486 - accuracy: 0.8913\n",
      "Epoch 61/100\n",
      "1168/1168 [==============================] - 0s 34us/sample - loss: 0.2504 - accuracy: 0.8921\n",
      "Epoch 62/100\n",
      "1168/1168 [==============================] - 0s 34us/sample - loss: 0.2493 - accuracy: 0.8904\n",
      "Epoch 63/100\n",
      "1168/1168 [==============================] - 0s 35us/sample - loss: 0.2493 - accuracy: 0.8896\n",
      "Epoch 64/100\n",
      "1168/1168 [==============================] - 0s 33us/sample - loss: 0.2495 - accuracy: 0.8887\n",
      "Epoch 65/100\n",
      "1168/1168 [==============================] - 0s 34us/sample - loss: 0.2482 - accuracy: 0.8947\n",
      "Epoch 66/100\n",
      "1168/1168 [==============================] - 0s 34us/sample - loss: 0.2482 - accuracy: 0.8887\n",
      "Epoch 67/100\n",
      "1168/1168 [==============================] - 0s 34us/sample - loss: 0.2483 - accuracy: 0.8930\n",
      "Epoch 68/100\n",
      "1168/1168 [==============================] - 0s 34us/sample - loss: 0.2476 - accuracy: 0.8870\n",
      "Epoch 69/100\n",
      "1168/1168 [==============================] - 0s 33us/sample - loss: 0.2484 - accuracy: 0.8870\n",
      "Epoch 70/100\n",
      "1168/1168 [==============================] - 0s 34us/sample - loss: 0.2476 - accuracy: 0.8878\n",
      "Epoch 71/100\n",
      "1168/1168 [==============================] - 0s 33us/sample - loss: 0.2471 - accuracy: 0.8921\n",
      "Epoch 72/100\n",
      "1168/1168 [==============================] - 0s 31us/sample - loss: 0.2483 - accuracy: 0.8930\n",
      "Epoch 73/100\n",
      "1168/1168 [==============================] - 0s 33us/sample - loss: 0.2479 - accuracy: 0.8938\n",
      "Epoch 74/100\n",
      "1168/1168 [==============================] - 0s 35us/sample - loss: 0.2480 - accuracy: 0.8896\n",
      "Epoch 75/100\n",
      "1168/1168 [==============================] - 0s 33us/sample - loss: 0.2476 - accuracy: 0.8938\n",
      "Epoch 76/100\n",
      "1168/1168 [==============================] - 0s 34us/sample - loss: 0.2480 - accuracy: 0.8887\n",
      "Epoch 77/100\n",
      "1168/1168 [==============================] - 0s 34us/sample - loss: 0.2475 - accuracy: 0.8913\n",
      "Epoch 78/100\n",
      "1168/1168 [==============================] - 0s 33us/sample - loss: 0.2470 - accuracy: 0.8887\n",
      "Epoch 79/100\n",
      "1168/1168 [==============================] - 0s 32us/sample - loss: 0.2484 - accuracy: 0.8938\n",
      "Epoch 80/100\n",
      "1168/1168 [==============================] - 0s 32us/sample - loss: 0.2478 - accuracy: 0.8930\n",
      "Epoch 81/100\n",
      "1168/1168 [==============================] - 0s 34us/sample - loss: 0.2466 - accuracy: 0.8930\n",
      "Epoch 82/100\n",
      "1168/1168 [==============================] - 0s 33us/sample - loss: 0.2464 - accuracy: 0.8955\n",
      "Epoch 83/100\n",
      "1168/1168 [==============================] - 0s 35us/sample - loss: 0.2481 - accuracy: 0.8921\n",
      "Epoch 84/100\n",
      "1168/1168 [==============================] - 0s 35us/sample - loss: 0.2459 - accuracy: 0.8921\n",
      "Epoch 85/100\n",
      "1168/1168 [==============================] - 0s 34us/sample - loss: 0.2479 - accuracy: 0.8921\n",
      "Epoch 86/100\n",
      "1168/1168 [==============================] - 0s 33us/sample - loss: 0.2466 - accuracy: 0.8921\n",
      "Epoch 87/100\n",
      "1168/1168 [==============================] - 0s 30us/sample - loss: 0.2466 - accuracy: 0.8913\n",
      "Epoch 88/100\n",
      "1168/1168 [==============================] - 0s 31us/sample - loss: 0.2474 - accuracy: 0.8904\n",
      "Epoch 89/100\n",
      "1168/1168 [==============================] - 0s 32us/sample - loss: 0.2463 - accuracy: 0.8913\n",
      "Epoch 90/100\n",
      "1168/1168 [==============================] - 0s 32us/sample - loss: 0.2467 - accuracy: 0.8913\n",
      "Epoch 91/100\n",
      "1168/1168 [==============================] - 0s 34us/sample - loss: 0.2460 - accuracy: 0.8904\n",
      "Epoch 92/100\n",
      "1168/1168 [==============================] - 0s 34us/sample - loss: 0.2473 - accuracy: 0.8930\n",
      "Epoch 93/100\n",
      "1168/1168 [==============================] - 0s 34us/sample - loss: 0.2456 - accuracy: 0.8896\n",
      "Epoch 94/100\n",
      "1168/1168 [==============================] - 0s 33us/sample - loss: 0.2478 - accuracy: 0.8904\n",
      "Epoch 95/100\n",
      "1168/1168 [==============================] - 0s 31us/sample - loss: 0.2462 - accuracy: 0.8904\n",
      "Epoch 96/100\n",
      "1168/1168 [==============================] - 0s 31us/sample - loss: 0.2471 - accuracy: 0.8904\n",
      "Epoch 97/100\n",
      "1168/1168 [==============================] - 0s 31us/sample - loss: 0.2454 - accuracy: 0.8938\n",
      "Epoch 98/100\n",
      "1168/1168 [==============================] - 0s 31us/sample - loss: 0.2455 - accuracy: 0.8947\n",
      "Epoch 99/100\n",
      "1168/1168 [==============================] - 0s 31us/sample - loss: 0.2455 - accuracy: 0.8913\n",
      "Epoch 100/100\n",
      "1168/1168 [==============================] - 0s 32us/sample - loss: 0.2448 - accuracy: 0.8964\n"
     ]
    },
    {
     "data": {
      "text/plain": [
       "<tensorflow.python.keras.callbacks.History at 0x7f48b07af048>"
      ]
     },
     "execution_count": 41,
     "metadata": {},
     "output_type": "execute_result"
    }
   ],
   "source": [
    "model.fit(x_train, y_train, epochs=100, batch_size=32, verbose=1)"
   ]
  },
  {
   "cell_type": "markdown",
   "metadata": {},
   "source": [
    "# 7. Indicate the accuracy and loss of the model\n",
    "\n",
    "The accuracy and loss of the model after training is: \n",
    "\n",
    "loss: 0.2448 - accuracy: 0.8964"
   ]
  },
  {
   "cell_type": "code",
   "execution_count": 43,
   "metadata": {},
   "outputs": [
    {
     "data": {
      "image/png": "[encoded data removed]",
      "text/plain": [
       "<Figure size 1080x864 with 1 Axes>"
      ]
     },
     "metadata": {
      "needs_background": "light"
     },
     "output_type": "display_data"
    }
   ],
   "source": [
    "history_dict = model.history\n",
    "\n",
    "acc = history_dict.history[\"accuracy\"]\n",
    "loss = history_dict.history[\"loss\"]\n",
    "\n",
    "epochs = range(1, len(acc)+1)\n",
    "\n",
    "plt.figure(figsize=(15,12))\n",
    "plt.plot(epochs, loss, \"b\", label = \"Training Loss\")\n",
    "plt.xlabel(\"Epochs\")\n",
    "plt.ylabel(\"Loss\")\n",
    "plt.legend()\n",
    "plt.show()"
   ]
  },
  {
   "cell_type": "markdown",
   "metadata": {},
   "source": [
    "# 8. Evaluate the result"
   ]
  },
  {
   "cell_type": "code",
   "execution_count": 44,
   "metadata": {
    "collapsed": true,
    "jupyter": {
     "outputs_hidden": true
    }
   },
   "outputs": [
    {
     "name": "stdout",
     "output_type": "stream",
     "text": [
      "292/1 [========================================================================================================================================================================================================================================================================================================================================================================================================================================================================================================================================================================================================================================================================================================================================================================================================================================================================================================================================================================================================================================================================================================================================================================================================================================================================================================================================================================================================================================================================================================================================================================================================================================================================================================================================================================================================================================================================================================================================================================================================================================================================================================================================================================================================================================================================================================================================================================================================================================================================================================================================================================================================================================================================================================================================================================================================================================================================================================================================================================================================================================================================================================================================================================================================================================================================================================================================================================================================================================================================================================================================================================================================================================================================================================================================================================================================================================================================================================================================================================================================================================================================================================================================================================================================================================================================================================================================================================================================================================================================================================================================================================================================================================================================================================================================================================================================================================================================================================================================================================================================================================================================================================================================================================================================================================================================================================================================================================================================================================================================================================================================================================================================================================================================================================================================================================================================================================================================================================================================================================================================================================================================================================================================================================================================================================================================================================================================================================================================================================================================================================================================================================================================================================================================================================================================================================================================================================================================================================================================================================================================================================================================================================================================================================================================================================================================================================================================================================================================================================================================================================================================================================================================================================================================================================================================================================================================================================================================================================================================================================================================================================================================================================================================================================================================================================================================================================================================================================================================================================================================================================================================================================================================================================================================================================================================================================================================================================================================================================================================================================================================================================================================================================================] - 0s 29us/sample - loss: 0.2473 - accuracy: 0.9110\n"
     ]
    }
   ],
   "source": [
    "results = model.evaluate(x_test, y_test)"
   ]
  },
  {
   "cell_type": "code",
   "execution_count": 45,
   "metadata": {},
   "outputs": [
    {
     "name": "stdout",
     "output_type": "stream",
     "text": [
      "Evaluation Accuracy 0.9109589\n",
      "Evaluation Loss 0.21632875604172275\n"
     ]
    }
   ],
   "source": [
    "print(\"Evaluation Accuracy\",  results[1])\n",
    "print(\"Evaluation Loss\",  results[0])"
   ]
  },
  {
   "cell_type": "code",
   "execution_count": 46,
   "metadata": {},
   "outputs": [],
   "source": [
    "predictions = model.predict(x_test)"
   ]
  },
  {
   "cell_type": "code",
   "execution_count": 72,
   "metadata": {},
   "outputs": [
    {
     "data": {
      "text/plain": [
       "array([0, 1, 0, 0, 1, 0, 1, 0, 0, 0])"
      ]
     },
     "execution_count": 72,
     "metadata": {},
     "output_type": "execute_result"
    }
   ],
   "source": [
    "y_test[:10]"
   ]
  },
  {
   "cell_type": "code",
   "execution_count": 71,
   "metadata": {},
   "outputs": [
    {
     "data": {
      "text/plain": [
       "array([[0.06177929],\n",
       "       [0.99601614],\n",
       "       [0.13000011],\n",
       "       [0.8300701 ],\n",
       "       [0.9917234 ],\n",
       "       [0.0708088 ],\n",
       "       [0.74125016],\n",
       "       [0.87686217],\n",
       "       [0.07080126],\n",
       "       [0.07913557]], dtype=float32)"
      ]
     },
     "execution_count": 71,
     "metadata": {},
     "output_type": "execute_result"
    }
   ],
   "source": [
    "predictions[:10]"
   ]
  },
  {
   "cell_type": "markdown",
   "metadata": {},
   "source": [
    "As you can se the model is ok att doing the predictions. It has failed 2 times in the first 10 elements, but still has a evaluated accuracy of 0.91 which i think is acceptable"
   ]
  },
  {
   "cell_type": "code",
   "execution_count": null,
   "metadata": {},
   "outputs": [],
   "source": []
  }
 ],
 "metadata": {
  "kernelspec": {
   "display_name": "Python 3",
   "language": "python",
   "name": "python3"
  },
  "language_info": {
   "codemirror_mode": {
    "name": "ipython",
    "version": 3
   },
   "file_extension": ".py",
   "mimetype": "text/x-python",
   "name": "python",
   "nbconvert_exporter": "python",
   "pygments_lexer": "ipython3",
   "version": "3.7.3"
  }
 },
 "nbformat": 4,
 "nbformat_minor": 4
}
